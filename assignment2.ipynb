{
 "cells": [
  {
   "metadata": {},
   "cell_type": "markdown",
   "source": [
    "# Assignment 2: NumPy\n",
    "- **you will learn:** how to create and manipulate NumPy arrays, perform vectorized computations, and use basic NumPy functions for data analysis\n",
    "- **task:**  See section 2.9 below\n",
    "- **deadline:** 20.10.2025\n",
    "- [NumPy documentation](https://numpy.org/doc/stable/)\n",
    "- 📝 **Reminder:** Sync your GitHub repository with the main course repository, update your project in PyCharm, and after completing the assignment, commit and push your changes back to GitHub.\n",
    "---"
   ],
   "id": "d9f3166f05eb5272"
  },
  {
   "metadata": {},
   "cell_type": "markdown",
   "source": [
    "## 2.0 PEP 8 and Code Commenting\n",
    "\n",
    "### What is PEP 8?\n",
    "**PEP 8** is the official **style guide** for Python code.\n",
    "It defines conventions that make your code **clean, consistent, and easy to read**.\n",
    "While not mandatory, following PEP 8 is considered a sign of **professional and readable coding**.\n",
    "\n",
    "### Some Important PEP 8 Rules\n",
    "- ✅ **Line length:** keep lines **under 79 characters**.\n",
    "- ✅ **Spacing:**\n",
    "  - add spaces around operators (`a + b`, not `a+b`)\n",
    "  - add a space **after** commas, not before (`[1, 2, 3]`, not `[1 ,2 ,3]`)\n",
    "- ✅ **Variable and function names:** use lowercase with underscores (`calculate_mean`, not `CalculateMean`).\n",
    "- ✅ **Class names:** use `CamelCase` (`DataProcessor`).\n",
    "- ✅ **Imports:** at the top of the file, one per line.\n",
    "- ✅ **Blank lines:** use two blank lines between functions.\n",
    "\n",
    " **Official guide:** [PEP 8 – Style Guide for Python Code](https://peps.python.org/pep-0008/)\n",
    "\n",
    "### Comments and Docstrings\n",
    "Comments explain **what** your code does and **why**.\n",
    "Every function should include a **docstring** — a text enclosed in triple quotes `\"\"\" ... \"\"\"` that briefly describes the function’s purpose, parameters, and return value.\n",
    "\n",
    "#### Example:\n",
    "\n",
    "```python\n",
    "def calculate_mean(values):\n",
    "    \"\"\"\n",
    "    Compute the arithmetic mean of a list of numbers.\n",
    "\n",
    "    Parameters\n",
    "    ----------\n",
    "    values : list of float\n",
    "        Input numbers.\n",
    "\n",
    "    Returns\n",
    "    -------\n",
    "    float\n",
    "        The arithmetic mean of the input values.\n",
    "    \"\"\"\n",
    "    if not values:\n",
    "        return 0.0\n",
    "    return sum(values) / len(values)\n",
    "\n"
   ],
   "id": "836a39339ef3e1b2"
  },
  {
   "metadata": {},
   "cell_type": "markdown",
   "source": [
    "---\n",
    "## 2.1 What is a NumPy Array?\n",
    "\n",
    "- In computer programming, an **array** is a structure for storing and retrieving data.\n",
    "- They are the foundation for **data science, machine learning, and scientific computing** in Python.\n",
    "- We often visualize an array as a **grid in space**, with each cell storing one element of data.\n",
    "- Arrays can be **1D (vectors), 2D (matrices), or higher-dimensional (tensors)**.\n",
    "\n",
    "Most NumPy arrays have some rules:\n",
    "\n",
    "1. **Homogeneous type:** All elements must be of the same data type.\n",
    "2. **Fixed size:** Once created, the total size cannot change.\n",
    "3. **Rectangular shape:** All rows (in 2D arrays) must have the same number of columns — no jagged arrays.\n",
    "\n",
    "When these conditions are met, NumPy can exploit them to make arrays:\n",
    "\n",
    "- **Faster** (optimized C loops under the hood)\n",
    "- **More memory efficient** (contiguous memory storage)\n",
    "- **More convenient to use** (vectorized operations without explicit loops)"
   ],
   "id": "f639726d8899fde6"
  },
  {
   "metadata": {
    "ExecuteTime": {
     "end_time": "2025-10-13T10:33:33.088611Z",
     "start_time": "2025-10-13T10:33:33.081267Z"
    }
   },
   "cell_type": "code",
   "source": [
    "import numpy as np\n",
    "print(np.__version__)"
   ],
   "id": "f826db36465b85f7",
   "outputs": [
    {
     "name": "stdout",
     "output_type": "stream",
     "text": [
      "2.3.3\n"
     ]
    }
   ],
   "execution_count": 55
  },
  {
   "metadata": {
    "ExecuteTime": {
     "end_time": "2025-10-13T10:33:33.169051Z",
     "start_time": "2025-10-13T10:33:33.158457Z"
    }
   },
   "cell_type": "code",
   "source": [
    "# Create 1D array (vector)\n",
    "vector = np.array([10, 20, 30, 40, 50])\n",
    "print(\"1D array (vector):\", vector)\n",
    "print(\"Shape:\", vector.shape, \"Dtype:\", vector.dtype)\n",
    "\n",
    "# Create 2D array (matrix)\n",
    "matrix = np.array([[1, 2, 3],\n",
    "                   [4, 5, 6],\n",
    "                   [7, 8, 9]])\n",
    "print(\"2D array (matrix):\\n\", matrix)\n",
    "print(\"Shape:\", matrix.shape, \"Dtype:\", matrix.dtype)\n",
    "\n",
    "# Vectorized operation: multiply all elements by 2 or square them\n",
    "matrix2 = 2 * matrix\n",
    "matrix_sq = matrix ** 2\n",
    "print(\"Matrix after multiplying by 2:\\n\", matrix2)\n",
    "print(\"Matrix after squaring by 2:\\n\", matrix_sq)"
   ],
   "id": "9449ad8688854fd7",
   "outputs": [
    {
     "name": "stdout",
     "output_type": "stream",
     "text": [
      "1D array (vector): [10 20 30 40 50]\n",
      "Shape: (5,) Dtype: int64\n",
      "2D array (matrix):\n",
      " [[1 2 3]\n",
      " [4 5 6]\n",
      " [7 8 9]]\n",
      "Shape: (3, 3) Dtype: int64\n",
      "Matrix after multiplying by 2:\n",
      " [[ 2  4  6]\n",
      " [ 8 10 12]\n",
      " [14 16 18]]\n",
      "Matrix after squaring by 2:\n",
      " [[ 1  4  9]\n",
      " [16 25 36]\n",
      " [49 64 81]]\n"
     ]
    }
   ],
   "execution_count": 56
  },
  {
   "metadata": {},
   "cell_type": "markdown",
   "source": [
    "---\n",
    "## 2.2 Constructing arrays\n",
    "\n",
    "There are several mechanisms for creating arrays. Among others:\n",
    "\n",
    "1. **Conversion from other Python structures**\n",
    "   Arrays can be created directly from existing **lists or tuples** using `np.array()`.\n",
    "   This is the most common and straightforward way to build an array from existing data."
   ],
   "id": "eed4398b6b513855"
  },
  {
   "metadata": {
    "ExecuteTime": {
     "end_time": "2025-10-13T10:33:33.266690Z",
     "start_time": "2025-10-13T10:33:33.260164Z"
    }
   },
   "cell_type": "code",
   "source": [
    "# Conversion from Python structures\n",
    "a = np.array([1, 2, 3, 4, 5])\n",
    "b= np.array(((1,0),(0,1)))\n",
    "c = np.array([([1,2],[2,1]), ([3,1],[1,3])])\n",
    "print(\"From list:\\n\", a)\n",
    "print(\"From tuples of tuples:\\n\", b)\n",
    "print(\"From list of tuples or lists:\\n\", c)"
   ],
   "id": "d7ffddc3c7734d22",
   "outputs": [
    {
     "name": "stdout",
     "output_type": "stream",
     "text": [
      "From list:\n",
      " [1 2 3 4 5]\n",
      "From tuples of tuples:\n",
      " [[1 0]\n",
      " [0 1]]\n",
      "From list of tuples or lists:\n",
      " [[[1 2]\n",
      "  [2 1]]\n",
      "\n",
      " [[3 1]\n",
      "  [1 3]]]\n"
     ]
    }
   ],
   "execution_count": 57
  },
  {
   "metadata": {},
   "cell_type": "markdown",
   "source": [
    "\n",
    "2. **NumPy array creation functions**\n",
    "   NumPy provides a set of **built-in constructors** such as `np.zeros`, `np.ones`, `np.arange`, and `np.linspace`\n",
    "   to generate arrays of a specific shape or with evenly spaced values."
   ],
   "id": "f223d4bc6eb455d8"
  },
  {
   "metadata": {
    "ExecuteTime": {
     "end_time": "2025-10-13T10:33:33.337741Z",
     "start_time": "2025-10-13T10:33:33.332618Z"
    }
   },
   "cell_type": "code",
   "source": [
    "# np.empty(shape, dtype)\n",
    "# Creates a new array *without initializing* its entries (values are arbitrary).\n",
    "arr_empty = np.empty((2,3), dtype=\"int32\")\n",
    "print(\"np.empty:\\n\", arr_empty)\n",
    "print(\"np.empty type:\", arr_empty.dtype)"
   ],
   "id": "d78709e6b0134289",
   "outputs": [
    {
     "name": "stdout",
     "output_type": "stream",
     "text": [
      "np.empty:\n",
      " [[ -927712936  1072938614 -1580547965]\n",
      " [ 1075230277  1628651599 -1071500349]]\n",
      "np.empty type: int32\n"
     ]
    }
   ],
   "execution_count": 58
  },
  {
   "metadata": {
    "ExecuteTime": {
     "end_time": "2025-10-13T10:33:33.424956Z",
     "start_time": "2025-10-13T10:33:33.420272Z"
    }
   },
   "cell_type": "code",
   "source": [
    "# np.identity(n)\n",
    "# Shortcut for creating a square identity matrix (ones on the main diagonal).\n",
    "arr_identity = np.identity(4)\n",
    "print(\"np.identity:\\n\", arr_identity)"
   ],
   "id": "fdd3dead89dab21f",
   "outputs": [
    {
     "name": "stdout",
     "output_type": "stream",
     "text": [
      "np.identity:\n",
      " [[1. 0. 0. 0.]\n",
      " [0. 1. 0. 0.]\n",
      " [0. 0. 1. 0.]\n",
      " [0. 0. 0. 1.]]\n"
     ]
    }
   ],
   "execution_count": 59
  },
  {
   "metadata": {
    "ExecuteTime": {
     "end_time": "2025-10-13T10:33:33.510792Z",
     "start_time": "2025-10-13T10:33:33.503201Z"
    }
   },
   "cell_type": "code",
   "source": [
    "# np.eye(N, M, k)\n",
    "# Creates a 2D array with ones on the main (or k-th) diagonal, zeros elsewhere.\n",
    "arr_eye = np.eye(4,4,-1)\n",
    "print(\"np.eye:\\n\", arr_eye)"
   ],
   "id": "7e9e5f7a324496d6",
   "outputs": [
    {
     "name": "stdout",
     "output_type": "stream",
     "text": [
      "np.eye:\n",
      " [[0. 0. 0. 0.]\n",
      " [1. 0. 0. 0.]\n",
      " [0. 1. 0. 0.]\n",
      " [0. 0. 1. 0.]]\n"
     ]
    }
   ],
   "execution_count": 60
  },
  {
   "metadata": {
    "ExecuteTime": {
     "end_time": "2025-10-13T10:33:33.586969Z",
     "start_time": "2025-10-13T10:33:33.575664Z"
    }
   },
   "cell_type": "code",
   "source": [
    "# np.ones(shape, dtype)\n",
    "# Creates an array of given shape filled with ones.\n",
    "arr_ones = np.ones((2, 4))\n",
    "print(\"np.ones:\\n\", arr_ones)"
   ],
   "id": "ecc36a2338ff3c43",
   "outputs": [
    {
     "name": "stdout",
     "output_type": "stream",
     "text": [
      "np.ones:\n",
      " [[1. 1. 1. 1.]\n",
      " [1. 1. 1. 1.]]\n"
     ]
    }
   ],
   "execution_count": 61
  },
  {
   "metadata": {
    "ExecuteTime": {
     "end_time": "2025-10-13T10:33:33.670718Z",
     "start_time": "2025-10-13T10:33:33.664974Z"
    }
   },
   "cell_type": "code",
   "source": [
    "# np.zeros(shape, dtype)\n",
    "# Creates an array filled with zeros.\n",
    "arr_zeros = np.zeros((3, 3))\n",
    "print(\"np.zeros:\\n\", arr_zeros)"
   ],
   "id": "34c08c3a6fb6ac86",
   "outputs": [
    {
     "name": "stdout",
     "output_type": "stream",
     "text": [
      "np.zeros:\n",
      " [[0. 0. 0.]\n",
      " [0. 0. 0.]\n",
      " [0. 0. 0.]]\n"
     ]
    }
   ],
   "execution_count": 62
  },
  {
   "metadata": {
    "ExecuteTime": {
     "end_time": "2025-10-13T10:33:33.738548Z",
     "start_time": "2025-10-13T10:33:33.733279Z"
    }
   },
   "cell_type": "code",
   "source": [
    "# np.full(shape, fill_value)\n",
    "# Creates an array filled with a specified constant value.\n",
    "arr_full = np.full((2, 3), fill_value=7)\n",
    "print(\"np.full:\\n\", arr_full)"
   ],
   "id": "6e109336811c8e5b",
   "outputs": [
    {
     "name": "stdout",
     "output_type": "stream",
     "text": [
      "np.full:\n",
      " [[7 7 7]\n",
      " [7 7 7]]\n"
     ]
    }
   ],
   "execution_count": 63
  },
  {
   "metadata": {
    "ExecuteTime": {
     "end_time": "2025-10-13T10:33:33.805940Z",
     "start_time": "2025-10-13T10:33:33.800781Z"
    }
   },
   "cell_type": "code",
   "source": [
    "# np.empty_like(prototype)\n",
    "# Creates an uninitialized array with the *same shape and dtype* as another array.\n",
    "prototype = np.array([[1, 2, 3], [4, 5, 6]], dtype=float)\n",
    "arr_zeros_like = np.zeros_like(prototype)\n",
    "print(\"np.empty_like:\\n\", arr_zeros_like)\n",
    "\n",
    "# Similarly with np.empty_like(a), np.zeros_like(a), np.full_like(a, fill_value)"
   ],
   "id": "73371815235e17fc",
   "outputs": [
    {
     "name": "stdout",
     "output_type": "stream",
     "text": [
      "np.empty_like:\n",
      " [[0. 0. 0.]\n",
      " [0. 0. 0.]]\n"
     ]
    }
   ],
   "execution_count": 64
  },
  {
   "metadata": {
    "ExecuteTime": {
     "end_time": "2025-10-13T10:33:33.889040Z",
     "start_time": "2025-10-13T10:33:33.882277Z"
    }
   },
   "cell_type": "code",
   "source": [
    "# np.arange([start,] stop[, step,][, dtype])\n",
    "# Returns evenly spaced values within a given interval.\n",
    "# Similar to Python's range(), but returns a NumPy array.\n",
    "arr_arange = np.arange(0, 10, 2, dtype=float)\n",
    "print(\"np.arange:\\n\", arr_arange)"
   ],
   "id": "669f79b46b4739ed",
   "outputs": [
    {
     "name": "stdout",
     "output_type": "stream",
     "text": [
      "np.arange:\n",
      " [0. 2. 4. 6. 8.]\n"
     ]
    }
   ],
   "execution_count": 65
  },
  {
   "metadata": {
    "ExecuteTime": {
     "end_time": "2025-10-13T10:33:33.954294Z",
     "start_time": "2025-10-13T10:33:33.942614Z"
    }
   },
   "cell_type": "code",
   "source": [
    "# np.linspace(start, stop[, num, endpoint])\n",
    "# Returns evenly spaced numbers over a specified interval.\n",
    "# Unlike arange, it lets you specify the number of samples.\n",
    "arr_linspace = np.linspace(0, 1, num=5)\n",
    "print(\"np.linspace:\\n\", arr_linspace)"
   ],
   "id": "14a81938b4951f3e",
   "outputs": [
    {
     "name": "stdout",
     "output_type": "stream",
     "text": [
      "np.linspace:\n",
      " [0.   0.25 0.5  0.75 1.  ]\n"
     ]
    }
   ],
   "execution_count": 66
  },
  {
   "metadata": {
    "ExecuteTime": {
     "end_time": "2025-10-13T10:33:34.026568Z",
     "start_time": "2025-10-13T10:33:34.017650Z"
    }
   },
   "cell_type": "code",
   "source": [
    "# np.diag(v[, k])\n",
    "# Construct a diagonal matrix from a 1D array, or extract a diagonal from a 2D array.\n",
    "v = np.array([1, 2, 3])\n",
    "arr_diag = np.diag(v)\n",
    "print(\"np.diag (construct from 1D):\\n\", arr_diag)"
   ],
   "id": "ce6247233767b152",
   "outputs": [
    {
     "name": "stdout",
     "output_type": "stream",
     "text": [
      "np.diag (construct from 1D):\n",
      " [[1 0 0]\n",
      " [0 2 0]\n",
      " [0 0 3]]\n"
     ]
    }
   ],
   "execution_count": 67
  },
  {
   "metadata": {
    "ExecuteTime": {
     "end_time": "2025-10-13T10:33:34.100418Z",
     "start_time": "2025-10-13T10:33:34.092052Z"
    }
   },
   "cell_type": "code",
   "source": [
    "# np.tril(m[, k])\n",
    "# Return the lower triangle of an array (elements above the k-th diagonal are zeroed).\n",
    "m = np.arange(1, 10).reshape(3, 3)\n",
    "arr_tril = np.tril(m)\n",
    "print(\"np.tril (lower triangle):\\n\", arr_tril)\n",
    "\n",
    "# similarly with np.triu(m[, k])"
   ],
   "id": "390f928f5621792f",
   "outputs": [
    {
     "name": "stdout",
     "output_type": "stream",
     "text": [
      "np.tril (lower triangle):\n",
      " [[1 0 0]\n",
      " [4 5 0]\n",
      " [7 8 9]]\n"
     ]
    }
   ],
   "execution_count": 68
  },
  {
   "metadata": {},
   "cell_type": "markdown",
   "source": [
    "\n",
    "3. **Replicating, joining, or mutating existing arrays**\n",
    "   Arrays can be **copied, concatenated, reshaped, or repeated** to create new ones.\n",
    "   For example, you can use `np.tile`, `np.concatenate`, or `reshape` for this purpose."
   ],
   "id": "560d0852690389d5"
  },
  {
   "metadata": {
    "ExecuteTime": {
     "end_time": "2025-10-13T10:33:34.179450Z",
     "start_time": "2025-10-13T10:33:34.174474Z"
    }
   },
   "cell_type": "code",
   "source": [
    "# np.reshape(a, newshape)\n",
    "# Changes the shape of an array without changing its data.\n",
    "a = np.arange(6)\n",
    "print(\"a:\\n\", a)\n",
    "reshaped = np.reshape(a, (3, 2))\n",
    "print(\"np.reshape:\\n\", reshaped)"
   ],
   "id": "6c72643ec73f7a04",
   "outputs": [
    {
     "name": "stdout",
     "output_type": "stream",
     "text": [
      "a:\n",
      " [0 1 2 3 4 5]\n",
      "np.reshape:\n",
      " [[0 1]\n",
      " [2 3]\n",
      " [4 5]]\n"
     ]
    }
   ],
   "execution_count": 69
  },
  {
   "metadata": {
    "ExecuteTime": {
     "end_time": "2025-10-13T10:33:34.256921Z",
     "start_time": "2025-10-13T10:33:34.250496Z"
    }
   },
   "cell_type": "code",
   "source": [
    "# a.flatten()\n",
    "# Flatten a multi-dimensional array into 1D.\n",
    "a2 = np.array([[1, 2], [3, 4]])\n",
    "print(\"a.flatten:\\n\", a2.flatten())"
   ],
   "id": "6f52ce66226a0913",
   "outputs": [
    {
     "name": "stdout",
     "output_type": "stream",
     "text": [
      "a.flatten:\n",
      " [1 2 3 4]\n"
     ]
    }
   ],
   "execution_count": 70
  },
  {
   "metadata": {
    "ExecuteTime": {
     "end_time": "2025-10-13T10:33:34.328429Z",
     "start_time": "2025-10-13T10:33:34.320576Z"
    }
   },
   "cell_type": "code",
   "source": [
    "# np.transpose(a) or a.T\n",
    "# Swaps axes, e.g., turns rows into columns.\n",
    "print(\"np.transpose:\\n\", np.transpose(a2))"
   ],
   "id": "12969da6ffbdfd26",
   "outputs": [
    {
     "name": "stdout",
     "output_type": "stream",
     "text": [
      "np.transpose:\n",
      " [[1 3]\n",
      " [2 4]]\n"
     ]
    }
   ],
   "execution_count": 71
  },
  {
   "metadata": {
    "ExecuteTime": {
     "end_time": "2025-10-13T10:33:34.396035Z",
     "start_time": "2025-10-13T10:33:34.378037Z"
    }
   },
   "cell_type": "code",
   "source": [
    "# np.swapaxes(a, axis1, axis2)\n",
    "# Swaps any two axes in a multi-dimensional array.\n",
    "a3 = np.arange(8).reshape(2, 2, 2)\n",
    "print(\"a3:\\n\", a3)\n",
    "print(\"np.swapaxes:\\n\", np.swapaxes(a3, 0, 2))"
   ],
   "id": "a511179c3330353f",
   "outputs": [
    {
     "name": "stdout",
     "output_type": "stream",
     "text": [
      "a3:\n",
      " [[[0 1]\n",
      "  [2 3]]\n",
      "\n",
      " [[4 5]\n",
      "  [6 7]]]\n",
      "np.swapaxes:\n",
      " [[[0 4]\n",
      "  [2 6]]\n",
      "\n",
      " [[1 5]\n",
      "  [3 7]]]\n"
     ]
    }
   ],
   "execution_count": 72
  },
  {
   "metadata": {
    "ExecuteTime": {
     "end_time": "2025-10-13T10:33:34.464695Z",
     "start_time": "2025-10-13T10:33:34.451614Z"
    }
   },
   "cell_type": "code",
   "source": [
    "# np.moveaxis(a, source, destination)\n",
    "# Moves a given axis to a new position.\n",
    "a4 = np.zeros((2, 3, 4))\n",
    "print(\"np.moveaxis shape:\", np.moveaxis(a4, 0, -1).shape)"
   ],
   "id": "1416a8532833229c",
   "outputs": [
    {
     "name": "stdout",
     "output_type": "stream",
     "text": [
      "np.moveaxis shape: (3, 4, 2)\n"
     ]
    }
   ],
   "execution_count": 73
  },
  {
   "metadata": {
    "ExecuteTime": {
     "end_time": "2025-10-13T10:33:34.541556Z",
     "start_time": "2025-10-13T10:33:34.535003Z"
    }
   },
   "cell_type": "code",
   "source": [
    "# np.squeeze(a)\n",
    "# Removes axes of length 1.\n",
    "a5 = np.zeros((1, 3, 1))\n",
    "print(\"a5:\\n\", a5)\n",
    "print(\"np.squeeze shape:\", np.squeeze(a5).shape)\n",
    "print(\"a5 squeezed:\\n\", np.squeeze(a5))"
   ],
   "id": "fe89ddd4c223e40e",
   "outputs": [
    {
     "name": "stdout",
     "output_type": "stream",
     "text": [
      "a5:\n",
      " [[[0.]\n",
      "  [0.]\n",
      "  [0.]]]\n",
      "np.squeeze shape: (3,)\n",
      "a5 squeezed:\n",
      " [0. 0. 0.]\n"
     ]
    }
   ],
   "execution_count": 74
  },
  {
   "metadata": {
    "ExecuteTime": {
     "end_time": "2025-10-13T10:33:34.602108Z",
     "start_time": "2025-10-13T10:33:34.591447Z"
    }
   },
   "cell_type": "code",
   "source": [
    "# np.expand_dims(a, axis)\n",
    "# Adds a new dimension (axis) to the array.\n",
    "a6 = np.array([1, 2, 3])\n",
    "print(\"np.expand_dims shape:\", np.expand_dims(a6, axis=0).shape)"
   ],
   "id": "3291832f447d37aa",
   "outputs": [
    {
     "name": "stdout",
     "output_type": "stream",
     "text": [
      "np.expand_dims shape: (1, 3)\n"
     ]
    }
   ],
   "execution_count": 75
  },
  {
   "metadata": {
    "ExecuteTime": {
     "end_time": "2025-10-13T10:33:34.663232Z",
     "start_time": "2025-10-13T10:33:34.653520Z"
    }
   },
   "cell_type": "code",
   "source": [
    "# np.concatenate((a1, a2, ...), axis)\n",
    "# Joins arrays along an existing axis.\n",
    "a7 = np.ones((2, 2))\n",
    "b7 = np.zeros((2, 2))\n",
    "print(\"np.concatenate:\\n\", np.concatenate((a7, b7), axis=1))"
   ],
   "id": "dfa0170e423b6c06",
   "outputs": [
    {
     "name": "stdout",
     "output_type": "stream",
     "text": [
      "np.concatenate:\n",
      " [[1. 1. 0. 0.]\n",
      " [1. 1. 0. 0.]]\n"
     ]
    }
   ],
   "execution_count": 76
  },
  {
   "metadata": {
    "ExecuteTime": {
     "end_time": "2025-10-13T10:33:34.745020Z",
     "start_time": "2025-10-13T10:33:34.738952Z"
    }
   },
   "cell_type": "code",
   "source": [
    "# np.stack((a1, a2, ...), axis)\n",
    "# Stacks arrays along a new axis.\n",
    "a8 = np.array([1, 2])\n",
    "b8 = np.array([3, 4])\n",
    "print(\"np.stack:\\n\", np.stack((a8, b8), axis=0))"
   ],
   "id": "afdff07c876803b3",
   "outputs": [
    {
     "name": "stdout",
     "output_type": "stream",
     "text": [
      "np.stack:\n",
      " [[1 2]\n",
      " [3 4]]\n"
     ]
    }
   ],
   "execution_count": 77
  },
  {
   "metadata": {
    "ExecuteTime": {
     "end_time": "2025-10-13T10:33:34.801805Z",
     "start_time": "2025-10-13T10:33:34.792052Z"
    }
   },
   "cell_type": "code",
   "source": [
    "# np.split(a, sections, axis)\n",
    "# Splits an array into multiple subarrays.\n",
    "x = np.arange(9)\n",
    "print(\"np.split:\\n\", np.split(x, 3))"
   ],
   "id": "7e1969d2c8e3e536",
   "outputs": [
    {
     "name": "stdout",
     "output_type": "stream",
     "text": [
      "np.split:\n",
      " [array([0, 1, 2]), array([3, 4, 5]), array([6, 7, 8])]\n"
     ]
    }
   ],
   "execution_count": 78
  },
  {
   "metadata": {
    "ExecuteTime": {
     "end_time": "2025-10-13T10:45:40.012577Z",
     "start_time": "2025-10-13T10:45:40.004429Z"
    }
   },
   "cell_type": "code",
   "source": [
    "# np.copy(a)\n",
    "# Creates a deep copy of the array (independent of the original).\n",
    "a11 = np.array([1, 2, 3])\n",
    "b11 = a11.copy() #Important\n",
    "b11[0] = 99\n",
    "print(\"Original:\", a11, \" | Copy:\", b11)"
   ],
   "id": "549f87be717e0c68",
   "outputs": [
    {
     "name": "stdout",
     "output_type": "stream",
     "text": [
      "Original: [99  2  3]  | Copy: [99  2  3]\n"
     ]
    }
   ],
   "execution_count": 109
  },
  {
   "metadata": {
    "ExecuteTime": {
     "end_time": "2025-10-13T10:33:34.947588Z",
     "start_time": "2025-10-13T10:33:34.939674Z"
    }
   },
   "cell_type": "code",
   "source": [
    "# np.astype(dtype)\n",
    "# Converts array elements to a new type.\n",
    "a12 = np.array([1, 2, 3])\n",
    "print(\"astype to float:\\n\", a12.astype(float))"
   ],
   "id": "a6e2fbe50a50b41e",
   "outputs": [
    {
     "name": "stdout",
     "output_type": "stream",
     "text": [
      "astype to float:\n",
      " [1. 2. 3.]\n"
     ]
    }
   ],
   "execution_count": 80
  },
  {
   "metadata": {
    "ExecuteTime": {
     "end_time": "2025-10-13T10:33:35.015261Z",
     "start_time": "2025-10-13T10:33:35.006658Z"
    }
   },
   "cell_type": "code",
   "source": [
    "# np.clip(a, min, max)\n",
    "# Limits values to a given range.\n",
    "a13 = np.array([-1, 0, 2, 5])\n",
    "print(\"np.clip:\\n\", np.clip(a13, 0, 3))"
   ],
   "id": "2a265507d63f840",
   "outputs": [
    {
     "name": "stdout",
     "output_type": "stream",
     "text": [
      "np.clip:\n",
      " [0 0 2 3]\n"
     ]
    }
   ],
   "execution_count": 81
  },
  {
   "metadata": {
    "ExecuteTime": {
     "end_time": "2025-10-13T10:33:35.095888Z",
     "start_time": "2025-10-13T10:33:35.081988Z"
    }
   },
   "cell_type": "code",
   "source": [
    "# np.where(condition, x, y)\n",
    "# Selects elements based on a condition.\n",
    "a14 = np.array([1, 2, 3])\n",
    "print(\"np.where (a > 1 -> 100):\\n\", np.where(a14 > 1, 100, a14))"
   ],
   "id": "655944d6ee5d49c7",
   "outputs": [
    {
     "name": "stdout",
     "output_type": "stream",
     "text": [
      "np.where (a > 1 -> 100):\n",
      " [  1 100 100]\n"
     ]
    }
   ],
   "execution_count": 82
  },
  {
   "metadata": {},
   "cell_type": "markdown",
   "source": [
    "\n",
    "4. **Creating Arrays from Other Libraries**\n",
    "\n",
    "Many Python libraries — such as **SciPy**, **Pandas**, and **OpenCV** — use NumPy `ndarray` objects as a **common format for data exchange**.\n",
    "These libraries can **create**, **manipulate**, and **interoperate with** NumPy arrays directly.\n"
   ],
   "id": "a39594507e1a836a"
  },
  {
   "metadata": {},
   "cell_type": "markdown",
   "source": [
    "---\n",
    "## 2.3 Indexing arrays"
   ],
   "id": "c095658cbed35428"
  },
  {
   "metadata": {},
   "cell_type": "markdown",
   "source": "Note that Python indexes (unlike for example R) start from 0, not from 1.",
   "id": "af057b561b906e05"
  },
  {
   "metadata": {},
   "cell_type": "markdown",
   "source": "### Basic Indexing",
   "id": "395343aaf26987ba"
  },
  {
   "metadata": {
    "ExecuteTime": {
     "end_time": "2025-10-13T10:33:35.153909Z",
     "start_time": "2025-10-13T10:33:35.146751Z"
    }
   },
   "cell_type": "code",
   "source": [
    "# Create a 2D array for demonstration\n",
    "x = np.arange(1, 13).reshape(3, 4)\n",
    "print(\"Array x:\\n\", x)\n",
    "\n",
    "# 1. Single element indexing\n",
    "print(\"Single element x[1, 2]:\", x[1, 2])\n",
    "print(\"Same by chained indexing x[1][2]:\", x[1][2])"
   ],
   "id": "fe588aaa2cb62ffc",
   "outputs": [
    {
     "name": "stdout",
     "output_type": "stream",
     "text": [
      "Array x:\n",
      " [[ 1  2  3  4]\n",
      " [ 5  6  7  8]\n",
      " [ 9 10 11 12]]\n",
      "Single element x[1, 2]: 7\n",
      "Same by chained indexing x[1][2]: 7\n"
     ]
    }
   ],
   "execution_count": 83
  },
  {
   "metadata": {
    "ExecuteTime": {
     "end_time": "2025-10-13T10:33:35.200723Z",
     "start_time": "2025-10-13T10:33:35.187642Z"
    }
   },
   "cell_type": "code",
   "source": [
    "# 2. If fewer indices than dimensions, returns a subarray (view)\n",
    "print(\"x[0] returns first row (view):\", x[0])"
   ],
   "id": "7615f519beb291a1",
   "outputs": [
    {
     "name": "stdout",
     "output_type": "stream",
     "text": [
      "x[0] returns first row (view): [1 2 3 4]\n"
     ]
    }
   ],
   "execution_count": 84
  },
  {
   "metadata": {
    "ExecuteTime": {
     "end_time": "2025-10-13T10:33:35.248442Z",
     "start_time": "2025-10-13T10:33:35.243301Z"
    }
   },
   "cell_type": "code",
   "source": [
    "# 3. Slicing (rows, columns)\n",
    "print(\"x[0:2, 1:4] → rows 0 and 1, columns 1 to 3:\\n\", x[0:2, 1:4])"
   ],
   "id": "b6f293c0cdc6bd7f",
   "outputs": [
    {
     "name": "stdout",
     "output_type": "stream",
     "text": [
      "x[0:2, 1:4] → rows 0 and 1, columns 1 to 3:\n",
      " [[2 3 4]\n",
      " [6 7 8]]\n"
     ]
    }
   ],
   "execution_count": 85
  },
  {
   "metadata": {
    "ExecuteTime": {
     "end_time": "2025-10-13T10:33:35.306859Z",
     "start_time": "2025-10-13T10:33:35.302341Z"
    }
   },
   "cell_type": "code",
   "source": [
    "# 4. Striding with step (convention start:stop:step)\n",
    "print(\"x[:, ::2] → all rows, every second column:\\n\", x[:, ::2])"
   ],
   "id": "a3e44e2fbf01de17",
   "outputs": [
    {
     "name": "stdout",
     "output_type": "stream",
     "text": [
      "x[:, ::2] → all rows, every second column:\n",
      " [[ 1  3]\n",
      " [ 5  7]\n",
      " [ 9 11]]\n"
     ]
    }
   ],
   "execution_count": 86
  },
  {
   "metadata": {
    "ExecuteTime": {
     "end_time": "2025-10-13T10:33:35.375616Z",
     "start_time": "2025-10-13T10:33:35.369657Z"
    }
   },
   "cell_type": "code",
   "source": [
    "# 5. Using negative indices\n",
    "print(\"x[-1, -2]:\", x[-1, -2])  # last row, second-last column"
   ],
   "id": "98c46369ed246a0b",
   "outputs": [
    {
     "name": "stdout",
     "output_type": "stream",
     "text": [
      "x[-1, -2]: 11\n"
     ]
    }
   ],
   "execution_count": 87
  },
  {
   "metadata": {
    "ExecuteTime": {
     "end_time": "2025-10-13T10:33:35.436064Z",
     "start_time": "2025-10-13T10:33:35.428818Z"
    }
   },
   "cell_type": "code",
   "source": [
    "# 6. Ellipsis (`...`) and `newaxis` (alias None)\n",
    "# Ellipsis expands to as many \":\" as needed\n",
    "print(\"x[..., 2] → same as x[:, 2]:\", x[..., 2])\n",
    "\n",
    "# newaxis introduces a new dimension\n",
    "y = x[:, 1]  # shape (3,)\n",
    "y2 = x[:, 1, np.newaxis]  # shape (3,1)\n",
    "print(\"y shape:\", y.shape, \"   y2 shape:\", y2.shape)"
   ],
   "id": "5c07e59fccda7397",
   "outputs": [
    {
     "name": "stdout",
     "output_type": "stream",
     "text": [
      "x[..., 2] → same as x[:, 2]: [ 3  7 11]\n",
      "y shape: (3,)    y2 shape: (3, 1)\n"
     ]
    }
   ],
   "execution_count": 88
  },
  {
   "metadata": {},
   "cell_type": "markdown",
   "source": [
    "- All slicing operations produce views, not copies — they refer to the same underlying data.\n",
    "- Because of this, modifying a slice will affect the original array.\n",
    "- When using integer indexing (not slicing), you reduce a dimension.\n",
    "- : means “select all elements along this axis”.\n",
    "- ... is a convenient placeholder to fill in missing : for remaining axes."
   ],
   "id": "7c9700d74a9d0ca6"
  },
  {
   "metadata": {},
   "cell_type": "markdown",
   "source": "### Advanced Indexing",
   "id": "6badd678ca258696"
  },
  {
   "metadata": {
    "ExecuteTime": {
     "end_time": "2025-10-13T10:33:35.507023Z",
     "start_time": "2025-10-13T10:33:35.500372Z"
    }
   },
   "cell_type": "code",
   "source": [
    "x = np.arange(1, 13).reshape(3, 4)\n",
    "print(\"Array x:\\n\", x)\n",
    "\n",
    "# 1. Integer array indexing\n",
    "row_idx = [0, 2]\n",
    "col_idx = [1, 3]\n",
    "# Select elements (0,1) and (2,3)\n",
    "print(\"x[row_idx, col_idx]:\", x[row_idx, col_idx])\n",
    "\n",
    "# Equivalent as\n",
    "print(\"The same as:\", np.array([x[0,1],x[2,3]]))"
   ],
   "id": "dfd44a3583fe9b5d",
   "outputs": [
    {
     "name": "stdout",
     "output_type": "stream",
     "text": [
      "Array x:\n",
      " [[ 1  2  3  4]\n",
      " [ 5  6  7  8]\n",
      " [ 9 10 11 12]]\n",
      "x[row_idx, col_idx]: [ 2 12]\n",
      "The same as: [ 2 12]\n"
     ]
    }
   ],
   "execution_count": 89
  },
  {
   "metadata": {
    "ExecuteTime": {
     "end_time": "2025-10-13T10:33:35.566628Z",
     "start_time": "2025-10-13T10:33:35.560628Z"
    }
   },
   "cell_type": "code",
   "source": [
    "# 2. Broadcasting integer indices\n",
    "# If you supply fewer index arrays or scalars, they broadcast\n",
    "print(\"x[row_idx, 2]:\", x[row_idx, 2])\n",
    "print(\"The same as:\", x[[0,2], [2,2]])"
   ],
   "id": "2e01282e7b2dc228",
   "outputs": [
    {
     "name": "stdout",
     "output_type": "stream",
     "text": [
      "x[row_idx, 2]: [ 3 11]\n",
      "The same as: [ 3 11]\n"
     ]
    }
   ],
   "execution_count": 90
  },
  {
   "metadata": {
    "ExecuteTime": {
     "end_time": "2025-10-13T10:33:35.638386Z",
     "start_time": "2025-10-13T10:33:35.631570Z"
    }
   },
   "cell_type": "code",
   "source": [
    "# 3. Boolean masking (Boolean indexing)\n",
    "mask = x % 2 == 0  # True for even numbers\n",
    "print(\"Boolean mask:\\n\", mask)\n",
    "print(\"x[mask] → all even elements:\", x[mask])\n",
    "\n",
    "# Example modification using Boolean mask\n",
    "x2 = x.copy()\n",
    "x2[x2 % 2 == 1] = -1\n",
    "print(\"x2 with odd elements replaced by –1:\\n\", x2)"
   ],
   "id": "b3437a8fb58c4efa",
   "outputs": [
    {
     "name": "stdout",
     "output_type": "stream",
     "text": [
      "Boolean mask:\n",
      " [[False  True False  True]\n",
      " [False  True False  True]\n",
      " [False  True False  True]]\n",
      "x[mask] → all even elements: [ 2  4  6  8 10 12]\n",
      "x2 with odd elements replaced by –1:\n",
      " [[-1  2 -1  4]\n",
      " [-1  6 -1  8]\n",
      " [-1 10 -1 12]]\n"
     ]
    }
   ],
   "execution_count": 91
  },
  {
   "metadata": {
    "ExecuteTime": {
     "end_time": "2025-10-13T10:33:35.695839Z",
     "start_time": "2025-10-13T10:33:35.687487Z"
    }
   },
   "cell_type": "code",
   "source": [
    "# 4. Combining basic and advanced indexing\n",
    "# e.g. select rows 0 and 2, but columns 1:3\n",
    "print(\"x[[0, 2], 1:3]:\\n\", x[[0, 2], 1:3])"
   ],
   "id": "24ab23d2074f399d",
   "outputs": [
    {
     "name": "stdout",
     "output_type": "stream",
     "text": [
      "x[[0, 2], 1:3]:\n",
      " [[ 2  3]\n",
      " [10 11]]\n"
     ]
    }
   ],
   "execution_count": 92
  },
  {
   "metadata": {},
   "cell_type": "markdown",
   "source": [
    "---\n",
    "## 2.4 Array attributes\n",
    "\n",
    "- Every NumPy array is a Python object of class `numpy.ndarray`.\n",
    "- Besides storing the actual data, it also stores various attributes that describe its structure and memory layout."
   ],
   "id": "ec2840f9aa5bdd68"
  },
  {
   "metadata": {
    "ExecuteTime": {
     "end_time": "2025-10-13T10:34:30.904315Z",
     "start_time": "2025-10-13T10:34:30.899232Z"
    }
   },
   "cell_type": "code",
   "source": [
    "# Let's create a simple 2D array\n",
    "a = np.array([[1, 2, 3, 4],\n",
    "              [5, 6, 7, 8],\n",
    "              [9, 10, 11, 12]])\n",
    "\n",
    "print(\"Type of numpy array object:\", type(a))"
   ],
   "id": "b34842346a73237a",
   "outputs": [
    {
     "name": "stdout",
     "output_type": "stream",
     "text": [
      "Type of numpy array object: <class 'numpy.ndarray'>\n"
     ]
    }
   ],
   "execution_count": 108
  },
  {
   "metadata": {
    "ExecuteTime": {
     "end_time": "2025-10-13T10:33:35.834959Z",
     "start_time": "2025-10-13T10:33:35.820227Z"
    }
   },
   "cell_type": "code",
   "source": [
    "print(\"Number of dimensions (ndim):\", a.ndim)\n",
    "print(\"Shape (rows, columns):\", a.shape)\n",
    "print(\"Total number of elements (size):\", a.size)\n",
    "print(\"Data type (dtype):\", a.dtype)\n",
    "print(\"Size of one element in bytes (itemsize):\", a.itemsize)\n",
    "print(\"Total size in bytes (nbytes):\", a.nbytes)\n",
    "print(\"Transposed array (T):\\n\", a.T)"
   ],
   "id": "b35c323296e240e0",
   "outputs": [
    {
     "name": "stdout",
     "output_type": "stream",
     "text": [
      "Number of dimensions (ndim): 2\n",
      "Shape (rows, columns): (3, 4)\n",
      "Total number of elements (size): 12\n",
      "Data type (dtype): int64\n",
      "Size of one element in bytes (itemsize): 8\n",
      "Total size in bytes (nbytes): 96\n",
      "Transposed array (T):\n",
      " [[ 1  5  9]\n",
      " [ 2  6 10]\n",
      " [ 3  7 11]\n",
      " [ 4  8 12]]\n"
     ]
    }
   ],
   "execution_count": 94
  },
  {
   "metadata": {},
   "cell_type": "markdown",
   "source": [
    "Example explanation:\n",
    "- ndim   → tells how many axes (dimensions) the array has\n",
    "- shape  → gives the length of each dimension as a tuple\n",
    "- size   → total count of elements = product of shape entries\n",
    "- dtype  → data type of the elements (e.g. int32, float64)\n",
    "- itemsize → bytes per element, depends on dtype\n",
    "- nbytes   → total memory used by the array\n",
    "- T        → shorthand for the transposed view (rows <-> columns)\n"
   ],
   "id": "dfa4c7396c3a8a57"
  },
  {
   "metadata": {},
   "cell_type": "markdown",
   "source": [
    "---\n",
    "## 2.5 Array methods\n",
    "\n",
    "- A NumPy ndarray provides many built-in methods that operate on the array or return information about it. Most of these methods return a new array or a computed value derived from the data."
   ],
   "id": "b9e6f3602326c5a2"
  },
  {
   "metadata": {
    "ExecuteTime": {
     "end_time": "2025-10-13T10:33:35.881541Z",
     "start_time": "2025-10-13T10:33:35.875004Z"
    }
   },
   "cell_type": "code",
   "source": [
    "# Create a 2D array\n",
    "a = np.array([[1, 2, 3], [4, 5, 6]])\n",
    "\n",
    "# Reshape the array to 3 rows and 2 columns\n",
    "reshaped = a.reshape(3, 2)\n",
    "print(\"Reshaped array:\\n\", reshaped)\n",
    "\n",
    "# Flatten the array to 1D\n",
    "flattened = a.flatten()\n",
    "print(\"\\nFlattened array:\", flattened)"
   ],
   "id": "5a936f3ac91b1739",
   "outputs": [
    {
     "name": "stdout",
     "output_type": "stream",
     "text": [
      "Reshaped array:\n",
      " [[1 2]\n",
      " [3 4]\n",
      " [5 6]]\n",
      "\n",
      "Flattened array: [1 2 3 4 5 6]\n"
     ]
    }
   ],
   "execution_count": 95
  },
  {
   "metadata": {
    "ExecuteTime": {
     "end_time": "2025-10-13T10:33:35.937832Z",
     "start_time": "2025-10-13T10:33:35.930379Z"
    }
   },
   "cell_type": "code",
   "source": [
    "# --- Max and Min ---\n",
    "print(\"Max element:\", a.max())                  # ndarray.max()\n",
    "print(\"Index of max (flattened):\", a.argmax())  # ndarray.argmax()\n",
    "print(\"Min element:\", a.min())                  # ndarray.min()\n",
    "print(\"Index of min (flattened):\", a.argmin())  # ndarray.argmin()"
   ],
   "id": "11e7eda086d3efc5",
   "outputs": [
    {
     "name": "stdout",
     "output_type": "stream",
     "text": [
      "Max element: 6\n",
      "Index of max (flattened): 5\n",
      "Min element: 1\n",
      "Index of min (flattened): 0\n"
     ]
    }
   ],
   "execution_count": 96
  },
  {
   "metadata": {
    "ExecuteTime": {
     "end_time": "2025-10-13T10:33:35.986625Z",
     "start_time": "2025-10-13T10:33:35.982646Z"
    }
   },
   "cell_type": "code",
   "source": [
    "# --- Rounding ---\n",
    "arr_float = np.array([[1.234, 2.567], [3.891, 4.456]])\n",
    "rounded = arr_float.round(1)             # Round to 1 decimal\n",
    "print(\"Rounded array:\\n\", rounded)"
   ],
   "id": "d6de26ada6300b70",
   "outputs": [
    {
     "name": "stdout",
     "output_type": "stream",
     "text": [
      "Rounded array:\n",
      " [[1.2 2.6]\n",
      " [3.9 4.5]]\n"
     ]
    }
   ],
   "execution_count": 97
  },
  {
   "metadata": {
    "ExecuteTime": {
     "end_time": "2025-10-13T10:33:36.058009Z",
     "start_time": "2025-10-13T10:33:36.048778Z"
    }
   },
   "cell_type": "code",
   "source": [
    "# --- Trace ---\n",
    "print(\"Trace (sum of diagonal):\", a.trace())  # Sum along main diagonal"
   ],
   "id": "295bffa74f875540",
   "outputs": [
    {
     "name": "stdout",
     "output_type": "stream",
     "text": [
      "Trace (sum of diagonal): 6\n"
     ]
    }
   ],
   "execution_count": 98
  },
  {
   "metadata": {
    "ExecuteTime": {
     "end_time": "2025-10-13T10:33:36.158213Z",
     "start_time": "2025-10-13T10:33:36.148658Z"
    }
   },
   "cell_type": "code",
   "source": [
    "# --- Sum, Cumsum, Mean ---\n",
    "print(\"Sum of all elements:\", a.sum())\n",
    "print(\"Cumulative sum along rows:\\n\", a.cumsum(axis=1))\n",
    "print(\"Mean along columns:\", a.mean(axis=0))"
   ],
   "id": "700d744eaf72f44b",
   "outputs": [
    {
     "name": "stdout",
     "output_type": "stream",
     "text": [
      "Sum of all elements: 21\n",
      "Cumulative sum along rows:\n",
      " [[ 1  3  6]\n",
      " [ 4  9 15]]\n",
      "Mean along columns: [2.5 3.5 4.5]\n"
     ]
    }
   ],
   "execution_count": 99
  },
  {
   "metadata": {
    "ExecuteTime": {
     "end_time": "2025-10-13T10:33:36.222641Z",
     "start_time": "2025-10-13T10:33:36.214399Z"
    }
   },
   "cell_type": "code",
   "source": [
    "# --- Variance and Standard Deviation ---\n",
    "print(\"Variance of all elements:\", a.var())\n",
    "print(\"Standard deviation:\", a.std())"
   ],
   "id": "513404c19cf54d86",
   "outputs": [
    {
     "name": "stdout",
     "output_type": "stream",
     "text": [
      "Variance of all elements: 2.9166666666666665\n",
      "Standard deviation: 1.707825127659933\n"
     ]
    }
   ],
   "execution_count": 100
  },
  {
   "metadata": {
    "ExecuteTime": {
     "end_time": "2025-10-13T10:33:36.277672Z",
     "start_time": "2025-10-13T10:33:36.264292Z"
    }
   },
   "cell_type": "code",
   "source": [
    "# --- Logical checks ---\n",
    "print(\"All elements > 0?\", (a > 0).all())\n",
    "print(\"Any element > 5?\", (a > 5).any())"
   ],
   "id": "e97c3164b8cde35c",
   "outputs": [
    {
     "name": "stdout",
     "output_type": "stream",
     "text": [
      "All elements > 0? True\n",
      "Any element > 5? True\n"
     ]
    }
   ],
   "execution_count": 101
  },
  {
   "metadata": {},
   "cell_type": "markdown",
   "source": [
    "---\n",
    "## 2.6 Arithmetic and linear algebra\n"
   ],
   "id": "7c42182120b48203"
  },
  {
   "metadata": {
    "ExecuteTime": {
     "end_time": "2025-10-13T10:33:36.322613Z",
     "start_time": "2025-10-13T10:33:36.310940Z"
    }
   },
   "cell_type": "code",
   "source": [
    "# Create example arrays\n",
    "a = np.array([[1, 2], [3, 4]])\n",
    "b = np.array([[5, 6], [7, 8]])\n",
    "\n",
    "print(\"Array a:\\n\", a)\n",
    "print(\"Array b:\\n\", b)\n"
   ],
   "id": "9817527bcfd9b6d8",
   "outputs": [
    {
     "name": "stdout",
     "output_type": "stream",
     "text": [
      "Array a:\n",
      " [[1 2]\n",
      " [3 4]]\n",
      "Array b:\n",
      " [[5 6]\n",
      " [7 8]]\n"
     ]
    }
   ],
   "execution_count": 102
  },
  {
   "metadata": {
    "ExecuteTime": {
     "end_time": "2025-10-13T10:33:36.392262Z",
     "start_time": "2025-10-13T10:33:36.381840Z"
    }
   },
   "cell_type": "code",
   "source": [
    "# Addition (elementwise)\n",
    "print(\"Addition (a + b):\\n\", a + b)\n",
    "\n",
    "# Subtraction (elementwise)\n",
    "print(\"Subtraction (a - b):\\n\", a - b)\n",
    "\n",
    "# Multiplication (elementwise)\n",
    "print(\"Elementwise multiplication (a * b):\\n\", a * b)\n",
    "\n",
    "# Division (elementwise)\n",
    "print(\"Elementwise division (a / b):\\n\", a / b)\n",
    "\n",
    "# Exponentiation (elementwise)\n",
    "print(\"Elementwise power (a ** 2):\\n\", a ** 2)\n",
    "\n",
    "# Modulo (elementwise)\n",
    "print(\"Elementwise modulo (b % a):\\n\", b % a)"
   ],
   "id": "e80d6deeb1172623",
   "outputs": [
    {
     "name": "stdout",
     "output_type": "stream",
     "text": [
      "Addition (a + b):\n",
      " [[ 6  8]\n",
      " [10 12]]\n",
      "Subtraction (a - b):\n",
      " [[-4 -4]\n",
      " [-4 -4]]\n",
      "Elementwise multiplication (a * b):\n",
      " [[ 5 12]\n",
      " [21 32]]\n",
      "Elementwise division (a / b):\n",
      " [[0.2        0.33333333]\n",
      " [0.42857143 0.5       ]]\n",
      "Elementwise power (a ** 2):\n",
      " [[ 1  4]\n",
      " [ 9 16]]\n",
      "Elementwise modulo (b % a):\n",
      " [[0 0]\n",
      " [1 0]]\n"
     ]
    }
   ],
   "execution_count": 103
  },
  {
   "metadata": {
    "ExecuteTime": {
     "end_time": "2025-10-13T10:33:36.436917Z",
     "start_time": "2025-10-13T10:33:36.424803Z"
    }
   },
   "cell_type": "code",
   "source": [
    "# Matrix multiplication\n",
    "matmul = a @ b  # or np.matmul(a, b)\n",
    "print(\"Matrix multiplication (a @ b):\\n\", matmul)\n",
    "\n",
    "# Dot product\n",
    "dot = np.dot(a[0], b[0])\n",
    "print(\"Dot product (np.dot(a[0], b[0])):\\n\", dot)\n",
    "\n",
    "# Transpose\n",
    "print(\"Transpose of a (a.T):\\n\", a.T)\n",
    "\n",
    "# Determinant\n",
    "det = np.linalg.det(a)\n",
    "print(\"Determinant of a:\", det)\n",
    "\n",
    "# Inverse\n",
    "inv = np.linalg.inv(a)\n",
    "print(\"Inverse of a:\\n\", inv)\n",
    "\n",
    "# Eigenvalues and eigenvectors\n",
    "eigvals, eigvecs = np.linalg.eig(a)\n",
    "print(\"Eigenvalues of a:\", eigvals)\n",
    "print(\"Eigenvectors of a:\\n\", eigvecs)\n",
    "\n",
    "# Norms\n",
    "norm_a0 = np.linalg.norm(a[0])\n",
    "print(\"Frobenius norm of a[0]:\", norm_a0)"
   ],
   "id": "bcb1864cd144ae",
   "outputs": [
    {
     "name": "stdout",
     "output_type": "stream",
     "text": [
      "Matrix multiplication (a @ b):\n",
      " [[19 22]\n",
      " [43 50]]\n",
      "Dot product (np.dot(a[0], b[0])):\n",
      " 17\n",
      "Transpose of a (a.T):\n",
      " [[1 3]\n",
      " [2 4]]\n",
      "Determinant of a: -2.0000000000000004\n",
      "Inverse of a:\n",
      " [[-2.   1. ]\n",
      " [ 1.5 -0.5]]\n",
      "Eigenvalues of a: [-0.37228132  5.37228132]\n",
      "Eigenvectors of a:\n",
      " [[-0.82456484 -0.41597356]\n",
      " [ 0.56576746 -0.90937671]]\n",
      "Frobenius norm of a[0]: 2.23606797749979\n"
     ]
    }
   ],
   "execution_count": 104
  },
  {
   "metadata": {},
   "cell_type": "markdown",
   "source": [
    "---\n",
    "## 2.7 Miscellaneous"
   ],
   "id": "34e8ef6774f9f33b"
  },
  {
   "metadata": {},
   "cell_type": "markdown",
   "source": "**NumPy** provides optimized **mathematical functions** that work directly on entire arrays (`np.array` objects). These functions are implemented in **compiled C code**, which makes them **very fast**. They automatically apply the operation **elementwise** to all elements in the array — this is called **vectorization**.",
   "id": "63040b8ed22d0802"
  },
  {
   "metadata": {
    "ExecuteTime": {
     "end_time": "2025-10-13T10:33:36.477790Z",
     "start_time": "2025-10-13T10:33:36.464365Z"
    }
   },
   "cell_type": "code",
   "source": [
    "# These are elementwise functions that operate efficiently on ndarrays.\n",
    "\n",
    "# Create an example array\n",
    "a = np.array([0, np.pi/4, np.pi/2, np.pi])\n",
    "print(\"Array a:\\n\", a)\n",
    "\n",
    "# Elementwise trigonometric functions\n",
    "print(\"sin(a):\", np.sin(a))"
   ],
   "id": "d953338247784bf",
   "outputs": [
    {
     "name": "stdout",
     "output_type": "stream",
     "text": [
      "Array a:\n",
      " [0.         0.78539816 1.57079633 3.14159265]\n",
      "sin(a): [0.00000000e+00 7.07106781e-01 1.00000000e+00 1.22464680e-16]\n"
     ]
    }
   ],
   "execution_count": 105
  },
  {
   "metadata": {
    "ExecuteTime": {
     "end_time": "2025-10-13T10:33:36.547961Z",
     "start_time": "2025-10-13T10:33:36.531037Z"
    }
   },
   "cell_type": "code",
   "source": [
    "b = np.array([1, 2, 3, 4])\n",
    "print(\"Array b:\\n\", b)\n",
    "\n",
    "# Exponential\n",
    "print(\"Exponential (e^b):\", np.exp(b))\n",
    "\n",
    "# Logarithms\n",
    "print(\"Natural log (ln(b)):\", np.log(b))\n",
    "print(\"Log base 10:\", np.log10(b))\n",
    "\n",
    "# Power\n",
    "print(\"b cubed:\", np.power(b, 3))\n",
    "c = np.array([1.234, 5.678, -9.1011])\n",
    "\n",
    "# Round to nearest integer\n",
    "print(\"Rounded:\", np.round(c))\n",
    "\n",
    "# Floor and ceiling\n",
    "print(\"Floor:\", np.floor(c))\n",
    "print(\"Ceil:\", np.ceil(c))\n",
    "\n",
    "# Absolute values\n",
    "print(\"Absolute values:\", np.abs(c))\n",
    "d = np.array([1, 2, 3, 4, 5])\n",
    "\n",
    "# Sum/product\n",
    "print(\"Sum:\", np.sum(d))\n",
    "print(\"Product:\", np.prod(d))"
   ],
   "id": "c0321d1a10da90b2",
   "outputs": [
    {
     "name": "stdout",
     "output_type": "stream",
     "text": [
      "Array b:\n",
      " [1 2 3 4]\n",
      "Exponential (e^b): [ 2.71828183  7.3890561  20.08553692 54.59815003]\n",
      "Natural log (ln(b)): [0.         0.69314718 1.09861229 1.38629436]\n",
      "Log base 10: [0.         0.30103    0.47712125 0.60205999]\n",
      "b cubed: [ 1  8 27 64]\n",
      "Rounded: [ 1.  6. -9.]\n",
      "Floor: [  1.   5. -10.]\n",
      "Ceil: [ 2.  6. -9.]\n",
      "Absolute values: [1.234  5.678  9.1011]\n",
      "Sum: 15\n",
      "Product: 120\n"
     ]
    }
   ],
   "execution_count": 106
  },
  {
   "metadata": {
    "ExecuteTime": {
     "end_time": "2025-10-05T16:52:24.663073Z",
     "start_time": "2025-10-05T16:52:24.650415Z"
    }
   },
   "cell_type": "markdown",
   "source": [
    "---\n",
    "## 2.8 Python lists vs NumPy arrays\n",
    "\n",
    "Python lists are flexible but **slow and memory-inefficient** for numerical computations.\n",
    "NumPy arrays (`ndarray`) store data in **contiguous memory** and support **vectorized operations**, making them much faster and smaller in memory footprint.\n",
    "\n",
    "Let's compare both in terms of **execution speed** and **memory usage**."
   ],
   "id": "fdc7d204dbd8c0b8"
  },
  {
   "metadata": {
    "ExecuteTime": {
     "end_time": "2025-10-13T17:24:53.431197Z",
     "start_time": "2025-10-13T17:24:53.129776Z"
    }
   },
   "cell_type": "code",
   "source": [
    "import time, sys\n",
    "\n",
    "# Create a large list and a NumPy array\n",
    "n = 1_000_000\n",
    "py_list = list(range(n))\n",
    "np_array = np.arange(n)\n",
    "\n",
    "# Compare memory usage of both objects\n",
    "list_mem = sys.getsizeof(py_list) + sum(sys.getsizeof(x) for x in py_list)\n",
    "array_mem = np_array.nbytes\n",
    "print(f\"Python list memory: {list_mem / 1e6:.2f} MB\")\n",
    "print(f\"NumPy array memory: {array_mem / 1e6:.2f} MB\")\n",
    "print(f\"Memory ratio (list / array): {list_mem / array_mem:.1f}×\")\n",
    "\n",
    "# Compute 2x Python list\n",
    "list_start = time.time()\n",
    "list_result = [x * 2 for x in py_list]\n",
    "list_end = time.time()\n",
    "print(f\"Python list time: {list_end - list_start:.5f} s\")\n",
    "\n",
    "# Compute 2x NumPy array\n",
    "array_start = time.time()\n",
    "array_result = np_array * 2\n",
    "array_end = time.time()\n",
    "print(f\"NumPy array time: {array_end - array_start:.5f} s\")\n",
    "print(f\"Execution speed ratio (list / array): {(list_end - list_start) / (array_end - array_start):.1f}×\")"
   ],
   "id": "a52bd6ebbaba5e3d",
   "outputs": [
    {
     "name": "stdout",
     "output_type": "stream",
     "text": [
      "Python list memory: 36.00 MB\n",
      "NumPy array memory: 8.00 MB\n",
      "Memory ratio (list / array): 4.5×\n",
      "Python list time: 0.09958 s\n",
      "NumPy array time: 0.00201 s\n",
      "Execution speed ratio (list / array): 49.6×\n"
     ]
    }
   ],
   "execution_count": 138
  },
  {
   "metadata": {},
   "cell_type": "markdown",
   "source": [
    "**Observation:**\n",
    "\n",
    "- NumPy operations are much faster because they run in optimized C loops rather than Python loops.\n",
    "- NumPy arrays use far less memory because all elements share the same data type and they are stored in an efficient way\n",
    "\n",
    "➡️ This demonstrates the two biggest advantages of NumPy:\n",
    "1. **Vectorization** (no explicit loops)\n",
    "2. **Efficient memory representation**"
   ],
   "id": "740be24bfb152f1e"
  },
  {
   "metadata": {},
   "cell_type": "markdown",
   "source": [
    "---\n",
    "## 2.9  🏠 Homework: NumPy Arrays in Data Science\n",
    "\n",
    "### Task Overview\n",
    "In this assignment, you will practice working with **NumPy arrays** and **mathematical functions** to perform a mini data analysis. You will simulate a small part of a **data preprocessing pipeline** — a common step in data science when dealing with multivariate datasets.\n",
    "\n",
    "### Your Task\n",
    "\n",
    "1. **Generate synthetic data:**\n",
    "   - Create a NumPy array `data` of shape **(100, 10)** — representing 100 samples and 10 features.\n",
    "   - The values should be drawn from a **normal distribution** with mean = 50 and standard deviation = 10 using\n",
    "      `np.random.normal(loc=50, scale=10, size=(100, 10))`.\n",
    "   - Print the shape, data type, and the **first 5 rows** of the array.\n",
    "\n",
    "2. **Data cleaning:**\n",
    "   - Replace all values **smaller than 20** or **larger than 80** with `np.nan` (treat them as outliers).\n",
    "   - Print how many `np.nan` values are now in the array.\n",
    "\n",
    "3. **Handle missing values:**\n",
    "   - Compute the **mean of each column** ignoring missing values (`np.nanmean`).\n",
    "   - Replace all `np.nan` values in each column with that column’s mean.\n",
    "\n",
    "4. **Data transformation:**\n",
    "   - **Standardize each column** so that it has mean 0 and standard deviation 1.\n",
    "   - Create a new array where:\n",
    "     - all positive standardized values are replaced with their **square roots**,\n",
    "     - negative values remain unchanged.\n",
    "   - For the first 5 rows, also compute the **exponential (`np.exp`)** of all standardized values and print the result.\n",
    "\n",
    "5. **Array indexing and logical operations:**\n",
    "   - Compute the **75th percentile** for each column.\n",
    "   - Create a Boolean mask that marks all values above the 75th percentile.\n",
    "   - Print how many such “high” values there are in total.\n",
    "   - Replace all values **below the 25th percentile** (computed column-wise) with the 25th percentile value (a simple form of *winsorization*).\n",
    "\n",
    "6. **Descriptive statistics:**\n",
    "   - Compute and print for the final cleaned dataset:\n",
    "     - column-wise **mean**, **median**, **variance**, and **standard deviation**,\n",
    "     - the **overall mean** of the entire array,\n",
    "     - and the **minimum and maximum** values per column.\n",
    "\n",
    "### ✍️ Hints\n",
    "- Use functions such as `np.mean`, `np.std`, `np.nanmean`, `np.isnan`, `np.where`, `np.percentile`, `np.sqrt`, and `np.exp`.\n",
    "- Remember to specify the `axis` argument when computing column-wise statistics (`axis=0`).\n",
    "- Use **vectorized operations** — avoid `for` loops.\n",
    "- Include **comments or docstrings** to make your code clear and readable.\n"
   ],
   "id": "e8feb0514d3defb9"
  },
  {
   "metadata": {},
   "cell_type": "markdown",
   "source": [
    "---\n",
    "## Your solution:"
   ],
   "id": "fdc89ef6b5f4c40a"
  },
  {
   "metadata": {
    "ExecuteTime": {
     "end_time": "2025-10-13T11:08:26.475695Z",
     "start_time": "2025-10-13T11:08:26.454074Z"
    }
   },
   "cell_type": "code",
   "source": [
    "\"\"\"\n",
    "1.Generate synthetic data:\n",
    "\n",
    "Create a NumPy array data of shape (100, 10) — representing 100 samples and 10 features.\n",
    "The values should be drawn from a normal distribution with mean = 50 and standard deviation = 10 using np.random.normal(loc=50, scale=10, size=(100, 10)).\n",
    "Print the shape, data type, and the first 5 rows of the array.\n",
    "\"\"\"\n",
    "\n",
    "#Fill 100x10 matrix with random values given in task\n",
    "arr_norm = np.full((100, 10), fill_value=np.random.normal(loc=50, scale=10, size=(100, 10)))\n",
    "print(\"Shape:\",arr_norm.shape)\n",
    "print(\"Type:\",arr_norm.dtype)\n",
    "print(\"First five rows:\",arr_norm[0:5,:])"
   ],
   "id": "d5002b59d71d36dc",
   "outputs": [
    {
     "name": "stdout",
     "output_type": "stream",
     "text": [
      "Shape: (100, 10)\n",
      "Shape: float64\n",
      "Shape: [[36.04912281 49.01952657 51.28817623 74.54537989 36.2352442  30.05610121\n",
      "  68.81004537 39.47753353 63.63337417 59.07808818]\n",
      " [50.97024226 57.6903666  50.02347616 32.65350739 48.17076874 49.11607721\n",
      "  43.3915332  43.74426082 51.11356466 44.40084092]\n",
      " [56.60871517 49.99403414 51.00319933 60.54641927 54.50343652 52.80371736\n",
      "  61.6587045  51.11920155 41.18130787 68.05364284]\n",
      " [48.262978   47.07467935 55.12116655 50.89843923 30.51147488 41.56795148\n",
      "  40.49634244 36.76196539 45.32676852 54.43294683]\n",
      " [24.88113402 53.50053863 52.06993155 46.24809765 55.06829797 39.46689123\n",
      "  67.04760383 65.65116216 56.53076722 42.79587193]]\n"
     ]
    }
   ],
   "execution_count": 117
  },
  {
   "metadata": {
    "ExecuteTime": {
     "end_time": "2025-10-13T11:45:11.473507Z",
     "start_time": "2025-10-13T11:45:11.464417Z"
    }
   },
   "cell_type": "code",
   "source": [
    "\"\"\"\n",
    "2.Data cleaning:\n",
    "\n",
    "Replace all values smaller than 20 or larger than 80 with np.nan (treat them as outliers).\n",
    "Print how many np.nan values are now in the array.\n",
    "\"\"\"\n",
    "\n",
    "mask_norm = ((arr_norm < 20) | (arr_norm > 80))  # True for values smaller than 20 or larger than 80\n",
    "#print(\"mask:\\n\", mask_norm)\n",
    "print(\"All outliers:\", arr_norm[mask_norm]) #Print all the elements of array for which mask true\n",
    "\n",
    "arr_norm_clean = arr_norm.copy() #Makes a copy of the array\n",
    "arr_norm_clean[mask_norm] = np.nan #Makes nan values from outliers\n",
    "\n",
    "print(\"Their nan amount:\", np.isnan(arr_norm_clean).sum()) #Makes a boolean array and sums elements for which the isnan is true\n"
   ],
   "id": "4b3496165f48ad89",
   "outputs": [
    {
     "name": "stdout",
     "output_type": "stream",
     "text": [
      "All outliers: [81.35140682 83.01479913]\n",
      "Their count is: 2\n"
     ]
    }
   ],
   "execution_count": 135
  },
  {
   "metadata": {
    "ExecuteTime": {
     "end_time": "2025-10-13T18:09:51.510074Z",
     "start_time": "2025-10-13T18:09:51.502367Z"
    }
   },
   "cell_type": "code",
   "source": [
    "\"\"\"\n",
    "3.Handle missing values:\n",
    "\n",
    "Compute the mean of each column ignoring missing values (np.nanmean).\n",
    "Replace all np.nan values in each column with that column’s mean.\n",
    "\"\"\"\n",
    "\n",
    "#Compute mean of each column ignoring nan\n",
    "col_mean = np.nanmean(arr_norm_clean, axis=0)\n",
    "#print(col_mean)\n",
    "\n",
    "#Make col_mean correct shape for broadcasting\n",
    "#print(col_mean[np.newaxis,:].shape)\n",
    "\n",
    "\n",
    "#np.isnan(arr_norm_clean) boolean array, if true it replaces elements with col_mean[np.newaxis,:]\n",
    "#If false it keeps the original array arr_norm_clean\n",
    "arr_no_nan = np.where(np.isnan(arr_norm_clean), col_mean[np.newaxis,:], arr_norm_clean)\n",
    "\n",
    "#Should print zero for nans are replaced\n",
    "print(np.isnan(arr_no_nan).sum())"
   ],
   "id": "b1e0519709d05a66",
   "outputs": [
    {
     "name": "stdout",
     "output_type": "stream",
     "text": [
      "(1, 10)\n",
      "0\n"
     ]
    }
   ],
   "execution_count": 156
  },
  {
   "metadata": {
    "ExecuteTime": {
     "end_time": "2025-10-13T21:34:11.671450Z",
     "start_time": "2025-10-13T21:34:11.660265Z"
    }
   },
   "cell_type": "code",
   "source": [
    "\"\"\"\n",
    "4.Data transformation:\n",
    "   - Standardize each column so that it has mean 0 and standard deviation 1.\n",
    "   - Create a new array where:\n",
    "     - all positive standardized values are replaced with their square roots,\n",
    "     - negative values remain unchanged.\n",
    "   - For the first 5 rows, also compute the exponential (`np.exp`) of all standardized values and print the result.\n",
    "\"\"\"\n",
    "#print(np.mean(arr_no_nan,axis=0))\n",
    "#print(np.std(arr_no_nan,axis=0))\n",
    "\n",
    "#Each column is standardized (element - column mean) / column std\n",
    "arr_standard = (arr_no_nan-np.mean(arr_no_nan,axis=0))/np.std(arr_no_nan,axis=0)\n",
    "\n",
    "#print(np.mean(arr_standard,axis=0))\n",
    "#print(np.std(arr_standard,axis=0))\n",
    "\n",
    "#All positive elements are replaced with their sqrt, the np.abs is put there so there is no warning when using sqrt on the whole array. Negative values remain the same.\n",
    "arr_modified = np.where(arr_standard>0, np.sqrt(np.abs(arr_standard)), arr_standard)\n",
    "#print(arr_modified)\n",
    "\n",
    "#computing exponential on the first 5 rows\n",
    "print(np.exp(arr_standard[0:5,:]))"
   ],
   "id": "a40cb86f38f01321",
   "outputs": [
    {
     "name": "stdout",
     "output_type": "stream",
     "text": [
      "[[0.24962192 0.83402752 1.11243383 9.46492533 0.27766494 0.13888275\n",
      "  4.6629912  0.30370564 3.91958389 2.67905052]\n",
      " [1.28401525 2.05010934 0.98264668 0.16944227 1.00462745 0.87919993\n",
      "  0.51928633 0.48557627 1.11035214 0.5862198 ]\n",
      " [2.38426935 0.92273963 1.08176778 2.46769935 1.9875662  1.25645401\n",
      "  2.51461468 1.09277072 0.4082204  6.78486226]\n",
      " [0.95392737 0.68166431 1.62017272 0.97706716 0.14986351 0.42335227\n",
      "  0.40441756 0.22528951 0.61982779 1.65624818]\n",
      " [0.07326666 1.32750819 1.20109489 0.62514749 2.11228471 0.3454267\n",
      "  4.00468753 5.40334906 1.91637104 0.49647529]]\n"
     ]
    }
   ],
   "execution_count": 180
  },
  {
   "metadata": {
    "ExecuteTime": {
     "end_time": "2025-10-13T21:47:36.313616Z",
     "start_time": "2025-10-13T21:47:36.300254Z"
    }
   },
   "cell_type": "code",
   "source": [
    "\"\"\"\n",
    "5. Array indexing and logical operations:\n",
    "   - Compute the 75th percentile for each column.\n",
    "   - Create a Boolean mask that marks all values above the 75th percentile.\n",
    "   - Print how many such “high” values there are in total.\n",
    "   - Replace all values below the 25th percentile (computed column-wise) with the 25th percentile value (a simple form of winsorization).\n",
    "\"\"\"\n",
    "#75th percentile for each column\n",
    "my_percentiles = np.percentile(arr_modified,75,axis=0)\n",
    "print(\"75th percentile for each column:\",my_percentiles)\n",
    "#Changing shape for broadcasting\n",
    "#print(my_percentiles[np.newaxis,:].shape)\n",
    "\n",
    "#Compares in each column the value of each element with the 75th percentile of each column\n",
    "my_mask = arr_modified > my_percentiles[np.newaxis,:]\n",
    "print(\"Amount of values above 75th percentile:\", my_mask.sum())\n",
    "\n",
    "#Manual check if mask works\n",
    "#print(arr_modified[2])\n",
    "#print(my_mask[2])\n",
    "\n",
    "#25th percentile for each column\n",
    "my_percentiles_25 = np.percentile(arr_modified,25,axis=0)\n",
    "\n",
    "#If elements are below 25th percentile the elements are replaced by 25th percentile, if not the elements stay the same\n",
    "arr_winsored = np.where(arr_modified < my_percentiles_25[np.newaxis,:], my_percentiles_25[np.newaxis,:], arr_modified)\n"
   ],
   "id": "16b3eff44164040d",
   "outputs": [
    {
     "name": "stdout",
     "output_type": "stream",
     "text": [
      "75th percentile for each column: [0.88004636 0.80927671 0.78338419 0.88888009 0.76585625 0.78823327\n",
      " 0.76302892 0.78383732 0.79122521 0.80591916]\n",
      "Amount of values above 75th percentile: 250\n"
     ]
    }
   ],
   "execution_count": 183
  },
  {
   "metadata": {
    "ExecuteTime": {
     "end_time": "2025-10-13T21:57:31.321476Z",
     "start_time": "2025-10-13T21:57:31.304989Z"
    }
   },
   "cell_type": "code",
   "source": [
    "\"\"\"\n",
    "6. Descriptive statistics:\n",
    "   - Compute and print for the final cleaned dataset:\n",
    "     - column-wise mean, median, variance, and standard deviation,\n",
    "     - the overall mean of the entire array,\n",
    "     - and the minimum and maximum values per column.\n",
    "\"\"\"\n",
    "\n",
    "print(\"mean:\\n\",np.mean(arr_winsored,axis=0))\n",
    "print(\"median:\\n\",np.median(arr_winsored,axis=0))\n",
    "print(\"variance:\\n\",np.var(arr_winsored,axis=0))\n",
    "print(\"standard deviation:\\n\",np.std(arr_winsored,axis=0))\n",
    "\n",
    "print(\"overall mean:\", np.mean(arr_winsored))\n",
    "\n",
    "print(\"column minima:\\n\",np.min(arr_winsored,axis=0))\n",
    "print(\"column maxima:\\n\",np.max(arr_winsored,axis=0))\n"
   ],
   "id": "612c0669f61b281a",
   "outputs": [
    {
     "name": "stdout",
     "output_type": "stream",
     "text": [
      "mean:\n",
      " [0.2082368  0.19817547 0.1975322  0.21666025 0.15273358 0.16859257\n",
      " 0.11237368 0.16532767 0.15064611 0.16075685]\n",
      "median:\n",
      " [-0.04270716  0.10532621  0.28612045  0.43741852  0.03170797  0.02282388\n",
      " -0.07838422 -0.05042576  0.16035766  0.16429428]\n",
      "variance:\n",
      " [0.45828736 0.47043179 0.46991238 0.49899299 0.52183798 0.51012776\n",
      " 0.56428826 0.50489514 0.55325744 0.52847943]\n",
      "standard deviation:\n",
      " [0.67696925 0.6858803  0.68550156 0.70639436 0.72238354 0.71423229\n",
      " 0.75119123 0.71055974 0.74381277 0.7269659 ]\n",
      "overall mean: 0.17310351990164213\n",
      "column minima:\n",
      " [-0.56248021 -0.59772801 -0.60230185 -0.64080388 -0.67734255 -0.66124604\n",
      " -0.67744453 -0.64347647 -0.6939906  -0.66852927]\n",
      "column maxima:\n",
      " [1.53232487 1.49786527 1.61049921 1.49919742 1.58414802 1.67206725\n",
      " 1.53076769 1.50045548 1.70861249 1.45433032]\n"
     ]
    }
   ],
   "execution_count": 189
  }
 ],
 "metadata": {
  "kernelspec": {
   "display_name": "Python 3",
   "language": "python",
   "name": "python3"
  },
  "language_info": {
   "codemirror_mode": {
    "name": "ipython",
    "version": 2
   },
   "file_extension": ".py",
   "mimetype": "text/x-python",
   "name": "python",
   "nbconvert_exporter": "python",
   "pygments_lexer": "ipython2",
   "version": "2.7.6"
  }
 },
 "nbformat": 4,
 "nbformat_minor": 5
}
